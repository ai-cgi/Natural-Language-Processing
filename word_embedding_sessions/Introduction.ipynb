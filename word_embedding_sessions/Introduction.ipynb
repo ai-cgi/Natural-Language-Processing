{
 "cells": [
  {
   "cell_type": "markdown",
   "metadata": {},
   "source": [
    "# Natural Language Processing - Introduction"
   ]
  },
  {
   "cell_type": "code",
   "execution_count": 1,
   "metadata": {},
   "outputs": [],
   "source": [
    "from nltk import corpus, FreqDist, bigrams\n",
    "from functools import reduce\n",
    "from operator import itemgetter\n",
    "import matplotlib.pyplot as plt\n",
    "import seaborn as sns\n",
    "import pandas as pd\n",
    "import numpy as np"
   ]
  },
  {
   "cell_type": "markdown",
   "metadata": {},
   "source": [
    "## Project Gutenberg in NLTK"
   ]
  },
  {
   "cell_type": "code",
   "execution_count": 2,
   "metadata": {},
   "outputs": [
    {
     "data": {
      "text/plain": [
       "['austen-emma.txt',\n",
       " 'austen-persuasion.txt',\n",
       " 'austen-sense.txt',\n",
       " 'bible-kjv.txt',\n",
       " 'blake-poems.txt',\n",
       " 'bryant-stories.txt',\n",
       " 'burgess-busterbrown.txt',\n",
       " 'carroll-alice.txt',\n",
       " 'chesterton-ball.txt',\n",
       " 'chesterton-brown.txt',\n",
       " 'chesterton-thursday.txt',\n",
       " 'edgeworth-parents.txt',\n",
       " 'melville-moby_dick.txt',\n",
       " 'milton-paradise.txt',\n",
       " 'shakespeare-caesar.txt',\n",
       " 'shakespeare-hamlet.txt',\n",
       " 'shakespeare-macbeth.txt',\n",
       " 'whitman-leaves.txt']"
      ]
     },
     "execution_count": 2,
     "metadata": {},
     "output_type": "execute_result"
    }
   ],
   "source": [
    "corpus.gutenberg.fileids()"
   ]
  },
  {
   "cell_type": "code",
   "execution_count": 7,
   "metadata": {},
   "outputs": [
    {
     "data": {
      "text/plain": [
       "\"olely valuable or entertaining, as\\r\\naffording a glancing bird's eye view of what has been promiscuously\\r\\nsaid, thought, fancied, and sung of Leviathan, by many nations and\\r\\ngenerations, including our own.\\r\\n\\r\\nSo fare thee well, poor devil of a Sub-Sub, whose commentator I am.\\r\\nThou belongest to that hopeless, sallow tribe which no wine of this\\r\\nworld will ever warm; and for whom even Pale Sherry would be too\\r\\nrosy-strong; but with whom one sometimes loves to sit, and feel\\r\\npoor-devilish, too; and grow convivial upon tears; and say to them\\r\\nbluntly, with full eyes and empty glasses, and in not altogether\\r\\nunpleasant sadness--Give it up, Sub-Subs!  For by how much the more\\r\\npains ye take to please the world, by so much the more shall ye for\\r\\never go thankless!  Would that I could clear out Hampton Court and\\r\\nthe Tuileries for ye!  But gulp down your tears and hie aloft to the\\r\\nroyal-mast with your hearts; for your friends who have gone before\\r\\nare clearing out the seven-storied heavens, a\""
      ]
     },
     "execution_count": 7,
     "metadata": {},
     "output_type": "execute_result"
    }
   ],
   "source": [
    "moby_raw = corpus.gutenberg.raw('melville-moby_dick.txt')\n",
    "moby_words = corpus.gutenberg.words('melville-moby_dick.txt')\n",
    "moby_sents = corpus.gutenberg.sents('melville-moby_dick.txt')\n",
    "moby_raw[2000:3000]"
   ]
  },
  {
   "cell_type": "markdown",
   "metadata": {},
   "source": [
    "## How many tokens has the book?"
   ]
  },
  {
   "cell_type": "code",
   "execution_count": 5,
   "metadata": {},
   "outputs": [
    {
     "data": {
      "text/plain": [
       "260819"
      ]
     },
     "execution_count": 5,
     "metadata": {},
     "output_type": "execute_result"
    }
   ],
   "source": [
    "moby_len = len(moby_words)\n",
    "moby_len"
   ]
  },
  {
   "cell_type": "markdown",
   "metadata": {},
   "source": [
    "* Definition: **Token**\n",
    "> A sequence of characters that is treated as a single group.\n",
    "\n",
    "* How should the following sentance be tokenized?\n",
    "```\n",
    "\"My oncle lives in New York.\"\n",
    "```\n",
    "```\n",
    "['My', 'oncle', 'lives', 'in', 'New', 'York', '.']\n",
    "```\n",
    "or\n",
    "```\n",
    "['My', 'oncle', 'lives', 'in', 'New York', '.']\n",
    "```"
   ]
  },
  {
   "cell_type": "markdown",
   "metadata": {},
   "source": [
    "## How big is the vocabulary of the book?"
   ]
  },
  {
   "cell_type": "code",
   "execution_count": 6,
   "metadata": {},
   "outputs": [
    {
     "data": {
      "text/plain": [
       "19317"
      ]
     },
     "execution_count": 6,
     "metadata": {},
     "output_type": "execute_result"
    }
   ],
   "source": [
    "moby_vocabulary = len(set(moby_words))\n",
    "moby_vocabulary"
   ]
  },
  {
   "cell_type": "markdown",
   "metadata": {},
   "source": [
    "## What is its lexical diversity?"
   ]
  },
  {
   "cell_type": "code",
   "execution_count": 7,
   "metadata": {},
   "outputs": [
    {
     "data": {
      "text/plain": [
       "13.502044830977896"
      ]
     },
     "execution_count": 7,
     "metadata": {},
     "output_type": "execute_result"
    }
   ],
   "source": [
    "moby_len / moby_vocabulary"
   ]
  },
  {
   "cell_type": "markdown",
   "metadata": {},
   "source": [
    "### What about the other books?"
   ]
  },
  {
   "cell_type": "code",
   "execution_count": 10,
   "metadata": {},
   "outputs": [
    {
     "data": {
      "text/plain": [
       "[('bible-kjv.txt', 73.40068269300603),\n",
       " ('austen-emma.txt', 24.63538599411087),\n",
       " ('edgeworth-parents.txt', 21.960075054727405),\n",
       " ('austen-sense.txt', 20.719449729255086),\n",
       " ('austen-persuasion.txt', 16.00962165688193),\n",
       " ('melville-moby_dick.txt', 13.502044830977896),\n",
       " ('bryant-stories.txt', 12.57081447963801),\n",
       " ('carroll-alice.txt', 11.309681697612731),\n",
       " ('chesterton-ball.txt', 10.841175813121717),\n",
       " ('whitman-leaves.txt', 10.809058552585665),\n",
       " ('burgess-busterbrown.txt', 10.75),\n",
       " ('chesterton-brown.txt', 10.37028557657549),\n",
       " ('chesterton-thursday.txt', 10.167915381225209),\n",
       " ('milton-paradise.txt', 9.00613896381732),\n",
       " ('shakespeare-caesar.txt', 7.256460674157303),\n",
       " ('shakespeare-hamlet.txt', 6.858821369561227),\n",
       " ('shakespeare-macbeth.txt', 5.760517799352751),\n",
       " ('blake-poems.txt', 4.59010989010989)]"
      ]
     },
     "execution_count": 10,
     "metadata": {},
     "output_type": "execute_result"
    }
   ],
   "source": [
    "def lexical_diversity(tokens):\n",
    "    return len(tokens) / len(set(tokens))\n",
    "\n",
    "lex_rank = dict((id, lexical_diversity(corpus.gutenberg.words(id)))\n",
    "                for id in corpus.gutenberg.fileids())\n",
    "\n",
    "sorted(lex_rank.items(), key=itemgetter(1), reverse=True)"
   ]
  },
  {
   "cell_type": "markdown",
   "metadata": {},
   "source": [
    "## Zipf's distribution"
   ]
  },
  {
   "cell_type": "code",
   "execution_count": 9,
   "metadata": {},
   "outputs": [
    {
     "data": {
      "text/plain": [
       "[('once', 144),\n",
       " ('sir', 143),\n",
       " ('air', 141),\n",
       " ('line', 141),\n",
       " ('!--', 141),\n",
       " ('Now', 139),\n",
       " ('crew', 139),\n",
       " ('whole', 136),\n",
       " ('Sperm', 135),\n",
       " ('half', 135),\n",
       " ('fish', 133),\n",
       " ('against', 132),\n",
       " ('God', 132),\n",
       " ('things', 132),\n",
       " ('came', 130),\n",
       " ('thee', 129),\n",
       " ('each', 127),\n",
       " ('feet', 125),\n",
       " ('small', 125),\n",
       " ('mast', 124),\n",
       " ('hands', 123),\n",
       " ('tell', 122),\n",
       " ('full', 121),\n",
       " ('till', 121),\n",
       " ('As', 120),\n",
       " ('let', 120),\n",
       " ('Oh', 119),\n",
       " ('something', 119),\n",
       " ('take', 118),\n",
       " ('both', 118)]"
      ]
     },
     "execution_count": 9,
     "metadata": {},
     "output_type": "execute_result"
    }
   ],
   "source": [
    "token_freq = FreqDist(moby_words)\n",
    "sorted_token_freq = sorted(token_freq.items(), key=itemgetter(1), reverse=True)\n",
    "sorted_token_freq[200:230]"
   ]
  },
  {
   "cell_type": "markdown",
   "metadata": {},
   "source": [
    "### Token frequency"
   ]
  },
  {
   "cell_type": "code",
   "execution_count": 11,
   "metadata": {},
   "outputs": [
    {
     "data": {
      "text/plain": [
       "<matplotlib.axes._subplots.AxesSubplot at 0xdd08850>"
      ]
     },
     "execution_count": 11,
     "metadata": {},
     "output_type": "execute_result"
    },
    {
     "data": {
      "image/png": "[encoded data removed]",
      "text/plain": [
       "<Figure size 432x288 with 1 Axes>"
      ]
     },
     "metadata": {
      "needs_background": "light"
     },
     "output_type": "display_data"
    }
   ],
   "source": [
    "token_log_freq = pd.Series(map(lambda tpl: np.log(tpl[1]), sorted_token_freq))\n",
    "sns.lineplot(data=token_log_freq)"
   ]
  },
  {
   "cell_type": "markdown",
   "metadata": {},
   "source": [
    "### Frequency of token frequency"
   ]
  },
  {
   "cell_type": "code",
   "execution_count": 12,
   "metadata": {},
   "outputs": [
    {
     "data": {
      "text/plain": [
       "[(1, 9002),\n",
       " (2, 3193),\n",
       " (3, 1721),\n",
       " (4, 968),\n",
       " (5, 695),\n",
       " (6, 497),\n",
       " (7, 384),\n",
       " (8, 318),\n",
       " (9, 253),\n",
       " (10, 196),\n",
       " (11, 190),\n",
       " (12, 152),\n",
       " (13, 112),\n",
       " (15, 107),\n",
       " (14, 100),\n",
       " (16, 98),\n",
       " (17, 71),\n",
       " (18, 69),\n",
       " (19, 58),\n",
       " (20, 50)]"
      ]
     },
     "execution_count": 12,
     "metadata": {},
     "output_type": "execute_result"
    }
   ],
   "source": [
    "ranks = token_freq.values()\n",
    "rank_freq = FreqDist(ranks)\n",
    "sorted_rank_freq = sorted(rank_freq.items(), key=itemgetter(1), reverse=True)\n",
    "sorted_rank_freq[:20]"
   ]
  },
  {
   "cell_type": "code",
   "execution_count": 13,
   "metadata": {},
   "outputs": [
    {
     "data": {
      "text/plain": [
       "<matplotlib.axes._subplots.AxesSubplot at 0xdcfcc70>"
      ]
     },
     "execution_count": 13,
     "metadata": {},
     "output_type": "execute_result"
    },
    {
     "data": {
      "image/png": "[encoded data removed]",
      "text/plain": [
       "<Figure size 432x288 with 1 Axes>"
      ]
     },
     "metadata": {
      "needs_background": "light"
     },
     "output_type": "display_data"
    }
   ],
   "source": [
    "rank_log_freq = pd.Series(map(lambda tpl: np.log(tpl[1]), sorted_rank_freq))\n",
    "sns.lineplot(data=rank_log_freq)"
   ]
  },
  {
   "cell_type": "code",
   "execution_count": 14,
   "metadata": {},
   "outputs": [
    {
     "data": {
      "image/png": "[encoded data removed]",
      "text/plain": [
       "<Figure size 432x288 with 1 Axes>"
      ]
     },
     "metadata": {
      "needs_background": "light"
     },
     "output_type": "display_data"
    },
    {
     "data": {
      "text/plain": [
       "<matplotlib.axes._subplots.AxesSubplot at 0xf1526f0>"
      ]
     },
     "execution_count": 14,
     "metadata": {},
     "output_type": "execute_result"
    }
   ],
   "source": [
    "token_freq.plot(50, cumulative=True)"
   ]
  },
  {
   "cell_type": "markdown",
   "metadata": {},
   "source": [
    "### How many unique tokens are there?"
   ]
  },
  {
   "cell_type": "code",
   "execution_count": 43,
   "metadata": {},
   "outputs": [
    {
     "name": "stdout",
     "output_type": "stream",
     "text": [
      "Total number of tokens: 260819\n",
      "Total number of unique tokens: 9002\n"
     ]
    }
   ],
   "source": [
    "print(\"Total number of tokens: {num}\".format(num=len(moby_words)))\n",
    "print(\"Total number of unique tokens: {num}\".format(num=len(token_freq.hapaxes())))"
   ]
  },
  {
   "cell_type": "markdown",
   "metadata": {},
   "source": [
    "More than half of the words are just the same 50 words and the other half are entirely unique.\n",
    "\n",
    "Neither frequent nor infrequent words help."
   ]
  },
  {
   "cell_type": "markdown",
   "metadata": {},
   "source": [
    "### Let's try long tokens!"
   ]
  },
  {
   "cell_type": "code",
   "execution_count": 20,
   "metadata": {},
   "outputs": [
    {
     "name": "stdout",
     "output_type": "stream",
     "text": [
      "Number of long tokens: 1912\n"
     ]
    },
    {
     "data": {
      "text/plain": [
       "['irresponsible',\n",
       " 'distinctions',\n",
       " 'administering',\n",
       " 'soliloquized',\n",
       " 'essentially',\n",
       " 'Swackhammer',\n",
       " 'unanswerable',\n",
       " 'catastrophe',\n",
       " 'deepeningly',\n",
       " 'furthermore',\n",
       " 'bespattering',\n",
       " 'pronouncing',\n",
       " 'entrenchments',\n",
       " 'unparticipated',\n",
       " 'freebooting',\n",
       " 'expostulations',\n",
       " 'interrupted',\n",
       " 'marlinspikes',\n",
       " 'antiquities',\n",
       " 'reprehensible']"
      ]
     },
     "execution_count": 20,
     "metadata": {},
     "output_type": "execute_result"
    }
   ],
   "source": [
    "long_tokens = [t for t in set(moby_words) if len(t) > 10]\n",
    "print(\"Number of long tokens: {}\".format(len(long_tokens)))\n",
    "long_tokens[:20]"
   ]
  },
  {
   "cell_type": "markdown",
   "metadata": {},
   "source": [
    "### Even more fine grained\n",
    "Long and frequend tokens"
   ]
  },
  {
   "cell_type": "code",
   "execution_count": 27,
   "metadata": {},
   "outputs": [
    {
     "name": "stdout",
     "output_type": "stream",
     "text": [
      "Number of long frequent tokens: 555\n"
     ]
    },
    {
     "data": {
      "text/plain": [
       "['uncommon',\n",
       " 'magnitude',\n",
       " 'perilous',\n",
       " 'commander',\n",
       " 'accounts',\n",
       " 'revealed',\n",
       " 'particulars',\n",
       " 'bowsprit',\n",
       " 'commotion',\n",
       " 'harpooned',\n",
       " 'sweeping',\n",
       " 'temporarily',\n",
       " 'profound',\n",
       " 'greatest',\n",
       " 'glittering',\n",
       " 'significant',\n",
       " 'involuntarily',\n",
       " 'vitality',\n",
       " 'hopeless',\n",
       " 'tormented']"
      ]
     },
     "execution_count": 27,
     "metadata": {},
     "output_type": "execute_result"
    }
   ],
   "source": [
    "long_freq_token = [t for t in set(moby_words) if len(t) > 7 and token_freq[t] > 7]\n",
    "print(\"Number of long frequent tokens: {num}\".format(num=len(long_freq_token)))\n",
    "long_freq_token[:20]"
   ]
  },
  {
   "cell_type": "markdown",
   "metadata": {},
   "source": [
    "## How to incorporate Context?\n",
    "\n",
    "* Definition: **ngram**\n",
    "\n",
    "> A sequence of n consecutive tokens is colled a ngram.\n",
    "\n",
    "If n=2 they are called bigrams, if n=3 they are called trigrams, ...\n",
    "\n",
    "Example: 'My oncle lives in New York.'\n",
    "* Tokens: ['My', 'oncle', 'lives', 'in', 'New York', '.']\n",
    "* bigrams: [('My', 'oncle'), ('oncle', 'lives'), ('lives', 'in'), ('in', 'New York'), ('New York', '.')]"
   ]
  },
  {
   "cell_type": "code",
   "execution_count": 41,
   "metadata": {},
   "outputs": [
    {
     "data": {
      "text/plain": [
       "[('My', 'oncle'),\n",
       " ('oncle', 'lives'),\n",
       " ('lives', 'in'),\n",
       " ('in', 'New York'),\n",
       " ('New York', '.')]"
      ]
     },
     "execution_count": 41,
     "metadata": {},
     "output_type": "execute_result"
    }
   ],
   "source": [
    "sent = ['My', 'oncle', 'lives', 'in', 'New York', '.']\n",
    "\n",
    "def naive_bigrams(lst, token):\n",
    "    if not lst:\n",
    "        lst.append(token)\n",
    "    elif token != '.':\n",
    "        last_token = lst.pop()\n",
    "        lst.append((last_token, token))\n",
    "        lst.append(token)\n",
    "    else:\n",
    "        last_token = lst.pop()\n",
    "        lst.append((last_token, token))\n",
    "    return lst\n",
    "\n",
    "reduce(naive_bigrams, sent, [])"
   ]
  },
  {
   "cell_type": "code",
   "execution_count": 42,
   "metadata": {},
   "outputs": [
    {
     "data": {
      "text/plain": [
       "[('My', 'oncle'),\n",
       " ('oncle', 'lives'),\n",
       " ('lives', 'in'),\n",
       " ('in', 'New York'),\n",
       " ('New York', '.')]"
      ]
     },
     "execution_count": 42,
     "metadata": {},
     "output_type": "execute_result"
    }
   ],
   "source": [
    "list(bigrams(sent))"
   ]
  },
  {
   "cell_type": "markdown",
   "metadata": {},
   "source": [
    "## Predict the next word\n",
    "\n",
    "\\begin{equation*}\n",
    "P(\\text{My}, \\text{oncle}, \\text{lives}, \\text{in}, \\text{New_York}) = P(\\text{My} | \\text{<s>}) \\cdot P(\\text{oncle} | \\text{My}) \\cdot P(\\text{lives} | \\text{My oncle}) \\cdot P(\\text{in} | \\text{My oncle lives}) \\cdot P(\\text{New_York}| \\text{My oncle lives in}) \\cdot P(\\text{</s>}|\\text{My oncle lives in New_York})\n",
    "\\end{equation*}\n",
    "\n",
    "* This can be hard to calculate, but we can create a reasonable approximation with bigrams."
   ]
  },
  {
   "cell_type": "markdown",
   "metadata": {},
   "source": [
    "\\begin{equation*}\n",
    "P(\\text{My}, \\text{oncle}, \\text{lives}, \\text{in}, \\text{New_York}) = P(\\text{My} | \\text{<s>}) \\cdot P(\\text{oncle} | \\text{My}) \\cdot P(\\text{lives} | \\text{oncle}) \\cdot P(\\text{in} | \\text{lives}) \\cdot P(\\text{New_York}| \\text{in}) \\cdot P(\\text{</s>}|\\text{New_York})\n",
    "\\end{equation*}\n",
    "\n",
    "* To get the probability of a word:\n",
    "\\begin{equation*}\n",
    "P(t_n|t_{n-1}) = \\frac{P(t_n,t_{n-1})}{P( t_{n-1})}\n",
    "\\end{equation*}"
   ]
  }
 ],
 "metadata": {
  "kernelspec": {
   "display_name": "Python 3",
   "language": "python",
   "name": "python3"
  },
  "language_info": {
   "codemirror_mode": {
    "name": "ipython",
    "version": 3
   },
   "file_extension": ".py",
   "mimetype": "text/x-python",
   "name": "python",
   "nbconvert_exporter": "python",
   "pygments_lexer": "ipython3",
   "version": "3.7.4"
  }
 },
 "nbformat": 4,
 "nbformat_minor": 2
}
