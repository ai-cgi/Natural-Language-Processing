{
 "cells": [
  {
   "cell_type": "code",
   "execution_count": 59,
   "metadata": {},
   "outputs": [],
   "source": [
    "from nltk.corpus import reuters\n",
    "import numpy as np\n",
    "from tensorflow import keras\n",
    "from tensorflow.keras import layers\n",
    "import tensorflow as tf\n",
    "from sklearn import metrics\n",
    "from sklearn.feature_extraction.text import CountVectorizer, TfidfVectorizer, HashingVectorizer"
   ]
  },
  {
   "cell_type": "code",
   "execution_count": 71,
   "metadata": {},
   "outputs": [],
   "source": [
    "fileids = reuters.fileids()\n",
    "\n",
    "test = [ f for f in fileids if f.startswith('test/')]\n",
    "train = [ f for f in fileids if f.startswith('training/')]\n",
    "\n",
    "def label(file_ids):\n",
    "    return np.array([ [float('earn' in reuters.categories(f))] for f in file_ids ])\n",
    "\n",
    "\n",
    "\n",
    "# train_features = np.array( [ [len(reuters.raw(f))] for f in train])\n",
    "# test_features = np.array( [ [len(reuters.raw(f))] for f in test])\n",
    "\n",
    "# vectorizer = CountVectorizer(max_features= 1000)\n",
    "# vectorizer = TfidfVectorizer(max_features= 1000)\n",
    "vectorizer = HashingVectorizer(n_features= 10000)\n",
    "\n",
    "train_features = vectorizer.fit_transform( (reuters.raw(f) for f in train ) ).toarray()\n",
    "test_features = vectorizer.transform( (reuters.raw(f) for f in test ) ).toarray()\n",
    "\n",
    "\n",
    "data = {\n",
    "    'label_train': label(train),\n",
    "    'label_test': label(test),\n",
    "    'features_train': train_features,\n",
    "    'features_test': test_features,\n",
    "    'n_features': len(train_features[0])\n",
    "}\n"
   ]
  },
  {
   "cell_type": "code",
   "execution_count": 76,
   "metadata": {},
   "outputs": [],
   "source": [
    "model = tf.keras.Sequential()\n",
    "model.add(layers.Dense(50, activation='relu', input_dim=data['n_features']))\n",
    "model.add(layers.Dense(1, activation='sigmoid'))\n",
    "\n",
    "model.compile(optimizer='adam', loss='binary_crossentropy')\n"
   ]
  },
  {
   "cell_type": "code",
   "execution_count": 77,
   "metadata": {},
   "outputs": [
    {
     "name": "stdout",
     "output_type": "stream",
     "text": [
      "Train on 7769 samples\n",
      "Epoch 1/10\n",
      "7769/7769 [==============================] - 1s 184us/sample - loss: 0.2874\n",
      "Epoch 2/10\n",
      "7769/7769 [==============================] - 2s 250us/sample - loss: 0.0774\n",
      "Epoch 3/10\n",
      "7769/7769 [==============================] - 1s 123us/sample - loss: 0.0418\n",
      "Epoch 4/10\n",
      "7769/7769 [==============================] - 1s 124us/sample - loss: 0.0270\n",
      "Epoch 5/10\n",
      "7769/7769 [==============================] - 1s 119us/sample - loss: 0.0187\n",
      "Epoch 6/10\n",
      "7769/7769 [==============================] - 1s 118us/sample - loss: 0.0134\n",
      "Epoch 7/10\n",
      "7769/7769 [==============================] - 1s 119us/sample - loss: 0.0098\n",
      "Epoch 8/10\n",
      "7769/7769 [==============================] - 1s 118us/sample - loss: 0.0074\n",
      "Epoch 9/10\n",
      "7769/7769 [==============================] - 1s 118us/sample - loss: 0.0057\n",
      "Epoch 10/10\n",
      "7769/7769 [==============================] - 1s 122us/sample - loss: 0.0045\n"
     ]
    },
    {
     "data": {
      "text/plain": [
       "<tensorflow.python.keras.callbacks.History at 0x7ffa70404350>"
      ]
     },
     "execution_count": 77,
     "metadata": {},
     "output_type": "execute_result"
    }
   ],
   "source": [
    "model.fit(data['features_train'], data['label_train'], epochs=10, batch_size=32)"
   ]
  },
  {
   "cell_type": "code",
   "execution_count": 78,
   "metadata": {},
   "outputs": [],
   "source": [
    "prediction_probs = model.predict(data['features_test'])\n",
    "prediction_class = [ 0 if x < 0.5 else 1 for x in prediction_probs]"
   ]
  },
  {
   "cell_type": "code",
   "execution_count": 69,
   "metadata": {},
   "outputs": [
    {
     "name": "stdout",
     "output_type": "stream",
     "text": [
      "0.967870155680689\n",
      "0.9539629805410538\n",
      "[[1917   15]\n",
      " [  82 1005]]\n"
     ]
    }
   ],
   "source": [
    "print(metrics.accuracy_score(data['label_test'], prediction_class))\n",
    "print(metrics.f1_score(data['label_test'], prediction_class))\n",
    "print(metrics.confusion_matrix(data['label_test'], prediction_class))\n"
   ]
  },
  {
   "cell_type": "code",
   "execution_count": 47,
   "metadata": {},
   "outputs": [
    {
     "name": "stdout",
     "output_type": "stream",
     "text": [
      "0.9867505796621397\n",
      "0.9815668202764978\n",
      "[[1914   18]\n",
      " [  22 1065]]\n"
     ]
    }
   ],
   "source": [
    "print(metrics.accuracy_score(data['label_test'], prediction_class))\n",
    "print(metrics.f1_score(data['label_test'], prediction_class))\n",
    "print(metrics.confusion_matrix(data['label_test'], prediction_class))\n"
   ]
  },
  {
   "cell_type": "code",
   "execution_count": 52,
   "metadata": {},
   "outputs": [
    {
     "name": "stdout",
     "output_type": "stream",
     "text": [
      "0.9867505796621397\n",
      "0.9815327793167128\n",
      "[[1916   16]\n",
      " [  24 1063]]\n"
     ]
    }
   ],
   "source": [
    "print(metrics.accuracy_score(data['label_test'], prediction_class))\n",
    "print(metrics.f1_score(data['label_test'], prediction_class))\n",
    "print(metrics.confusion_matrix(data['label_test'], prediction_class))\n"
   ]
  },
  {
   "cell_type": "code",
   "execution_count": 58,
   "metadata": {},
   "outputs": [
    {
     "name": "stdout",
     "output_type": "stream",
     "text": [
      "0.9801258694932097\n",
      "0.9719101123595505\n",
      "[[1921   11]\n",
      " [  49 1038]]\n"
     ]
    }
   ],
   "source": [
    "print(metrics.accuracy_score(data['label_test'], prediction_class))\n",
    "print(metrics.f1_score(data['label_test'], prediction_class))\n",
    "print(metrics.confusion_matrix(data['label_test'], prediction_class))\n"
   ]
  },
  {
   "cell_type": "code",
   "execution_count": 75,
   "metadata": {},
   "outputs": [
    {
     "name": "stdout",
     "output_type": "stream",
     "text": [
      "0.9741636303411726\n",
      "0.9631728045325779\n",
      "[[1921   11]\n",
      " [  67 1020]]\n"
     ]
    }
   ],
   "source": [
    "print(metrics.accuracy_score(data['label_test'], prediction_class))\n",
    "print(metrics.f1_score(data['label_test'], prediction_class))\n",
    "print(metrics.confusion_matrix(data['label_test'], prediction_class))\n"
   ]
  },
  {
   "cell_type": "code",
   "execution_count": 79,
   "metadata": {},
   "outputs": [
    {
     "name": "stdout",
     "output_type": "stream",
     "text": [
      "0.9864193441536933\n",
      "0.9811320754716981\n",
      "[[1912   20]\n",
      " [  21 1066]]\n"
     ]
    }
   ],
   "source": [
    "print(metrics.accuracy_score(data['label_test'], prediction_class))\n",
    "print(metrics.f1_score(data['label_test'], prediction_class))\n",
    "print(metrics.confusion_matrix(data['label_test'], prediction_class))\n"
   ]
  }
 ],
 "metadata": {
  "kernelspec": {
   "display_name": "Python 3",
   "language": "python",
   "name": "python3"
  },
  "language_info": {
   "codemirror_mode": {
    "name": "ipython",
    "version": 3
   },
   "file_extension": ".py",
   "mimetype": "text/x-python",
   "name": "python",
   "nbconvert_exporter": "python",
   "pygments_lexer": "ipython3",
   "version": "3.7.4"
  }
 },
 "nbformat": 4,
 "nbformat_minor": 2
}
